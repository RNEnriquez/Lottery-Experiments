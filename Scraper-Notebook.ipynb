{
 "cells": [
  {
   "cell_type": "markdown",
   "metadata": {},
   "source": [
    "### Dependencies"
   ]
  },
  {
   "cell_type": "code",
   "execution_count": null,
   "metadata": {},
   "outputs": [],
   "source": [
    "import requests\n",
    "import re\n",
    "from bs4 import BeautifulSoup \n",
    "import pandas as pd\n",
    "import numpy as np"
   ]
  },
  {
   "cell_type": "markdown",
   "metadata": {},
   "source": [
    "### Scrape Dates and Create list of DataFrames"
   ]
  },
  {
   "cell_type": "markdown",
   "metadata": {},
   "source": [
    "The following will scrape the lotto numbers from the specified date range and create a DataFrame for each year. I would like to make this so it will scrape the data on a weekly basis, without repeating what it has already done.\n",
    "Would need to use Pythons datetime module to automate this process."
   ]
  },
  {
   "cell_type": "code",
   "execution_count": null,
   "metadata": {},
   "outputs": [],
   "source": [
    "all_data = []\n",
    "for year in range(1994, 2019):\n",
    "    url = f\"https://www.lotterycorner.com/il/powerball/{year}\"\n",
    "    read = requests.get(url)\n",
    "    soup = BeautifulSoup(read.content, 'html5lib') \n",
    "    numbers = []\n",
    "    for line in soup.find_all(\"tr\"):\n",
    "        name = str(line.find(\"ul\", class_=\"nbr-grp\"))\n",
    "        items = re.findall(\"[0-9]+\", name)\n",
    "        if items != []:\n",
    "            numbers.append(items)\n",
    "    globals()[f\"data{year}\"] = pd.DataFrame(numbers)\n",
    "    all_data.append(globals()[f\"data{year}\"])"
   ]
  },
  {
   "cell_type": "markdown",
   "metadata": {},
   "source": [
    "### Scrape Dates"
   ]
  },
  {
   "cell_type": "code",
   "execution_count": null,
   "metadata": {},
   "outputs": [],
   "source": [
    "dates = []\n",
    "for year in range(1994, 2019):\n",
    "    url = f\"https://www.lotterycorner.com/il/powerball/{year}\"\n",
    "    read = requests.get(url)\n",
    "    soup = BeautifulSoup(read.content, 'html5lib') \n",
    "    date = []\n",
    "    for line in soup.find_all(\"tr\"):\n",
    "        name = line.find(\"td\", class_=\"win-nbr-date col-sm-3 col-xs-4\")\n",
    "        if name != None:\n",
    "            date.append(str(name.get_text()))\n",
    "    dates.append(date)"
   ]
  }
 ],
 "metadata": {
  "kernelspec": {
   "display_name": "Python 3",
   "language": "python",
   "name": "python3"
  },
  "language_info": {
   "codemirror_mode": {
    "name": "ipython",
    "version": 3
   },
   "file_extension": ".py",
   "mimetype": "text/x-python",
   "name": "python",
   "nbconvert_exporter": "python",
   "pygments_lexer": "ipython3",
   "version": "3.7.3"
  }
 },
 "nbformat": 4,
 "nbformat_minor": 2
}
